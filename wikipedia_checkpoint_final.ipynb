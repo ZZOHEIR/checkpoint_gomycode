{
 "cells": [
  {
   "cell_type": "code",
   "execution_count": 1,
   "metadata": {},
   "outputs": [],
   "source": [
    "import requests\n",
    "from bs4 import BeautifulSoup"
   ]
  },
  {
   "cell_type": "code",
   "execution_count": 2,
   "metadata": {},
   "outputs": [
    {
     "name": "stdout",
     "output_type": "stream",
     "text": [
      "Title: Alger\n",
      "\n",
      "Links:\n",
      "https://fr.wikipedia.org/wiki/Wikip%C3%A9dia:Accueil_principal\n",
      "https://fr.wikipedia.org/wiki/Portail:Accueil\n",
      "https://fr.wikipedia.org/wiki/Sp%C3%A9cial:Page_au_hasard\n",
      "https://fr.wikipedia.org/wiki/Wikip%C3%A9dia:Contact\n",
      "https://fr.wikipedia.org/wiki/Aide:D%C3%A9buter\n",
      "https://fr.wikipedia.org/wiki/Aide:Accueil\n",
      "https://fr.wikipedia.org/wiki/Wikip%C3%A9dia:Accueil_de_la_communaut%C3%A9\n",
      "https://fr.wikipedia.org/wiki/Sp%C3%A9cial:Modifications_r%C3%A9centes\n",
      "https://fr.wikipedia.org/wiki/Wikip%C3%A9dia:Accueil_principal\n",
      "https://fr.wikipedia.org/wiki/Sp%C3%A9cial:Recherche\n"
     ]
    }
   ],
   "source": [
    "class WikiScrap:\n",
    "    \n",
    "    def contenu_web(url):\n",
    "        response = requests.get(url)\n",
    "        return BeautifulSoup(response.content, 'html.parser')\n",
    "    \n",
    "    \n",
    "    def wikipedia_page_links():\n",
    "        url = input('Search in wiki : ')\n",
    "        wikipedia_url = \"https://fr.wikipedia.org/wiki/\" + url.title()\n",
    "        soup = WikiScrap.contenu_web(wikipedia_url)\n",
    "        title = WikiScrap.extraire_titre(soup)\n",
    "        paragraphs = WikiScrap.extraire_paragraphes(soup)\n",
    "        links = WikiScrap.tous_les_liens(soup)\n",
    "        return {\n",
    "            'title': title,\n",
    "            'paragraphs': paragraphs,\n",
    "            'links': links\n",
    "        }\n",
    "    \n",
    "    \n",
    "    def extraire_titre(soup):\n",
    "        title = soup.find('h1', {'id': 'firstHeading'}).get_text()\n",
    "        return title\n",
    "    \n",
    "    \n",
    "    def extraire_paragraphes(soup):\n",
    "        content = soup.find('div', {'class': 'mw-parser-output'})\n",
    "        paragraphs = {}\n",
    "        current_section = None\n",
    "        for element in content.find_all(['h2', 'p']):  # Corrected to 'h2' for sections\n",
    "            if element.name == 'h2':\n",
    "                current_section = element.get_text().strip()\n",
    "                paragraphs[current_section] = []\n",
    "            elif element.name == 'p':\n",
    "                if current_section:\n",
    "                    paragraphs[current_section].append(element.get_text().strip())\n",
    "        return paragraphs\n",
    "    \n",
    "    \n",
    "    def tous_les_liens(soup):\n",
    "        links = []\n",
    "        for link in soup.find_all('a', href=True):\n",
    "            href = link['href']\n",
    "            if href.startswith('/wiki/') and not href.startswith('/wiki/Special:'):\n",
    "                links.append(f\"https://fr.wikipedia.org{href}\")\n",
    "        return links\n",
    "\n",
    "result = WikiScrap.wikipedia_page_links()\n",
    "print(\"Title:\", result['title'])\n",
    "\n",
    "for section, paras in result['paragraphs'].items():\n",
    "    print(f\"\\nSection: {section}\")\n",
    "    for para in paras:\n",
    "        print(para)\n",
    "\n",
    "print(\"\\nLinks:\")\n",
    "for link in result['links'][:10]:\n",
    "    print(link)\n",
    "# je nai pas reussi a faire mieux avec les fonctions et les classes\n",
    "# je pense quil va falloir revoir le chapitre des fonctions ... \n"
   ]
  }
 ],
 "metadata": {
  "kernelspec": {
   "display_name": "Python 3",
   "language": "python",
   "name": "python3"
  },
  "language_info": {
   "codemirror_mode": {
    "name": "ipython",
    "version": 3
   },
   "file_extension": ".py",
   "mimetype": "text/x-python",
   "name": "python",
   "nbconvert_exporter": "python",
   "pygments_lexer": "ipython3",
   "version": "3.12.6"
  }
 },
 "nbformat": 4,
 "nbformat_minor": 2
}
