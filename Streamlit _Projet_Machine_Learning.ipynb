{
 "cells": [
  {
   "cell_type": "code",
   "execution_count": 227,
   "metadata": {},
   "outputs": [],
   "source": [
    "import pandas as pd\n",
    "import numpy as np\n",
    "from scipy import stats\n",
    "from ydata_profiling import ProfileReport\n",
    "from plotly.subplots import make_subplots\n",
    "from sklearn.model_selection import train_test_split\n",
    "from sklearn.metrics import mean_squared_error, r2_score\n",
    "from sklearn.linear_model import LinearRegression\n",
    "from sklearn.tree import DecisionTreeRegressor\n",
    "from sklearn.ensemble import RandomForestRegressor\n",
    "from sklearn.neighbors import KNeighborsRegressor\n",
    "import plotly.graph_objects as go\n",
    "import seaborn as sns \n",
    "import matplotlib.pyplot as plt\n",
    "from sklearn.preprocessing import LabelEncoder\n"
   ]
  },
  {
   "cell_type": "markdown",
   "metadata": {},
   "source": [
    "DATASET : House sales in King County USA\n",
    "I try to find the best model regression for this data set\n",
    "i started with Linear reg, decision tree reg, random forrest reg and finish with k-Nearest Neighbors (k-NN)\n"
   ]
  },
  {
   "cell_type": "code",
   "execution_count": 228,
   "metadata": {},
   "outputs": [],
   "source": [
    "\n",
    "df = pd.read_csv(r'C:\\Users\\Hp\\Desktop\\dataset\\Machine learning\\streamlit machine learning checkpoint\\kc_house_data.csv')"
   ]
  },
  {
   "cell_type": "code",
   "execution_count": null,
   "metadata": {},
   "outputs": [],
   "source": [
    "df.head()"
   ]
  },
  {
   "cell_type": "code",
   "execution_count": null,
   "metadata": {},
   "outputs": [],
   "source": [
    "df.info()"
   ]
  },
  {
   "cell_type": "code",
   "execution_count": null,
   "metadata": {},
   "outputs": [],
   "source": [
    "df.describe()"
   ]
  },
  {
   "cell_type": "code",
   "execution_count": null,
   "metadata": {},
   "outputs": [],
   "source": [
    "df.isnull().sum()"
   ]
  },
  {
   "cell_type": "code",
   "execution_count": null,
   "metadata": {},
   "outputs": [],
   "source": [
    "df.duplicated().sum()"
   ]
  },
  {
   "cell_type": "code",
   "execution_count": null,
   "metadata": {},
   "outputs": [],
   "source": [
    "report_1 = ProfileReport(df, title = 'KC House')\n",
    "report_1"
   ]
  },
  {
   "cell_type": "code",
   "execution_count": 235,
   "metadata": {},
   "outputs": [],
   "source": [
    "df_encoded = df.copy()"
   ]
  },
  {
   "cell_type": "code",
   "execution_count": 236,
   "metadata": {},
   "outputs": [],
   "source": [
    "df_encoded.drop(columns=['sqft_lot','waterfront', 'view', 'sqft_basement', 'yr_renovated','sqft_lot15'], inplace=True)"
   ]
  },
  {
   "cell_type": "code",
   "execution_count": null,
   "metadata": {},
   "outputs": [],
   "source": [
    "report_2 = ProfileReport(df_encoded, title = 'KC House')\n",
    "report_2"
   ]
  },
  {
   "cell_type": "code",
   "execution_count": null,
   "metadata": {},
   "outputs": [],
   "source": [
    "def Plots(df) :\n",
    "    figure = make_subplots(rows=11, cols=2)\n",
    "    for i, column in enumerate(df.columns) :\n",
    "        row = (i//2) + 1\n",
    "        col = (i%2) + 1\n",
    "        figure.add_trace(go.Box(y=df[column], name= column),row = row, col = col)\n",
    "    figure.update_layout(width=1000, height=1500, showlegend=True) \n",
    "    # Adjust height to fit all plots \n",
    "    figure.show()\n",
    "\n",
    "Plots(df_encoded)"
   ]
  },
  {
   "cell_type": "code",
   "execution_count": null,
   "metadata": {},
   "outputs": [],
   "source": [
    "df_encoded\n"
   ]
  },
  {
   "cell_type": "code",
   "execution_count": 240,
   "metadata": {},
   "outputs": [],
   "source": [
    "df_encoded.drop(columns=['id', 'bedrooms'],inplace=True)"
   ]
  },
  {
   "cell_type": "code",
   "execution_count": 241,
   "metadata": {},
   "outputs": [],
   "source": [
    "df_encoded['date_only'] = df_encoded['date'].str.slice(0,4)\n",
    "df_encoded.drop(columns=['date'], inplace=True)"
   ]
  },
  {
   "cell_type": "code",
   "execution_count": null,
   "metadata": {},
   "outputs": [],
   "source": [
    "df_encoded['date_only'] = pd.to_numeric(df_encoded['date_only'], errors='coerce')\n",
    "df_encoded.info()"
   ]
  },
  {
   "cell_type": "code",
   "execution_count": null,
   "metadata": {},
   "outputs": [],
   "source": [
    "# Z-scores for each feature\n",
    "df_z_scores = df_encoded.apply(stats.zscore)\n",
    "# Identify outliers (Z-score > 3 or < -3)\n",
    "outliers = (df_z_scores > 3) | (df_z_scores < -3)\n",
    "#store outliers in df_outliers\n",
    "df_outliers = df_z_scores[outliers.any(axis=1)]\n",
    "#drop outliers from data with ~ operator \n",
    "df_cleaned = df_z_scores[~outliers.any(axis=1)]\n",
    "\n",
    "df_cleaned.info()"
   ]
  },
  {
   "cell_type": "code",
   "execution_count": null,
   "metadata": {},
   "outputs": [],
   "source": [
    "#Heatmap to check correlations \n",
    "correlation_stars = sns.heatmap(df_encoded.corr(), annot=True, cmap='coolwarm')\n",
    "correlation_stars"
   ]
  },
  {
   "cell_type": "code",
   "execution_count": null,
   "metadata": {},
   "outputs": [],
   "source": [
    "report_stars_3 = ProfileReport(df_cleaned, title = 'KC House')\n",
    "report_stars_3"
   ]
  },
  {
   "cell_type": "code",
   "execution_count": null,
   "metadata": {},
   "outputs": [],
   "source": [
    "correlation_matrix = df_cleaned.corr(method='pearson') \n",
    "correlation_matrix"
   ]
  },
  {
   "cell_type": "code",
   "execution_count": null,
   "metadata": {},
   "outputs": [],
   "source": [
    "%matplotlib inline\n",
    "plt.figure(figsize=(10, 8)) \n",
    "sns.heatmap(correlation_matrix, annot=True, cmap='coolwarm', center=0) \n",
    "plt.title('Correlation Matrix Heatmap') "
   ]
  },
  {
   "cell_type": "code",
   "execution_count": null,
   "metadata": {},
   "outputs": [],
   "source": [
    "df_cleaned.drop(columns=['sqft_living', 'sqft_living15'], inplace=True)"
   ]
  },
  {
   "cell_type": "code",
   "execution_count": null,
   "metadata": {},
   "outputs": [],
   "source": [
    "correlation_matrix = df_cleaned.corr(method='pearson') \n",
    "%matplotlib inline\n",
    "plt.figure(figsize=(10, 8)) \n",
    "sns.heatmap(correlation_matrix, annot=True, cmap='coolwarm', center=0) \n",
    "plt.title('Correlation Matrix Heatmap') "
   ]
  },
  {
   "cell_type": "markdown",
   "metadata": {},
   "source": [
    "**Model selection**"
   ]
  },
  {
   "cell_type": "code",
   "execution_count": 250,
   "metadata": {},
   "outputs": [],
   "source": [
    "# Split the dataset\n",
    "X = df_cleaned.drop(columns=['price'])\n",
    "y = df_cleaned['price']\n",
    "X_train, X_test, y_train, y_test = train_test_split(X, y, test_size=0.3, random_state=42)"
   ]
  },
  {
   "cell_type": "code",
   "execution_count": null,
   "metadata": {},
   "outputs": [],
   "source": [
    "# Initialize and train the model\n",
    "model = LinearRegression()\n",
    "model.fit(X_train, y_train)"
   ]
  },
  {
   "cell_type": "code",
   "execution_count": 252,
   "metadata": {},
   "outputs": [],
   "source": [
    "y_pred = model.predict(X_test)"
   ]
  },
  {
   "cell_type": "code",
   "execution_count": null,
   "metadata": {},
   "outputs": [],
   "source": [
    "print(\"Mean Squared Error:\", mean_squared_error(y_test, y_pred)) \n",
    "print(\"R-squared Score:\", r2_score(y_test, y_pred))"
   ]
  },
  {
   "cell_type": "markdown",
   "metadata": {},
   "source": [
    "**Decision Tree Regression**"
   ]
  },
  {
   "cell_type": "code",
   "execution_count": null,
   "metadata": {},
   "outputs": [],
   "source": [
    "tree = DecisionTreeRegressor(criterion='friedman_mse', max_depth=100, random_state=42) \n",
    "tree.fit(X_train, y_train)"
   ]
  },
  {
   "cell_type": "code",
   "execution_count": 255,
   "metadata": {},
   "outputs": [],
   "source": [
    "y_pred_dtr = tree.predict(X_test)"
   ]
  },
  {
   "cell_type": "code",
   "execution_count": null,
   "metadata": {},
   "outputs": [],
   "source": [
    "print(\"Mean Squared Error:\", mean_squared_error(y_test, y_pred_dtr)) \n",
    "print(\"R-squared Score:\", r2_score(y_test, y_pred_dtr))"
   ]
  },
  {
   "cell_type": "code",
   "execution_count": null,
   "metadata": {},
   "outputs": [],
   "source": [
    "rf = RandomForestRegressor(n_estimators=1000, criterion='squared_error', max_depth=100, random_state=42) \n",
    "rf.fit(X_train, y_train)"
   ]
  },
  {
   "cell_type": "code",
   "execution_count": 258,
   "metadata": {},
   "outputs": [],
   "source": [
    "y_pred_rf = rf.predict(X_test) "
   ]
  },
  {
   "cell_type": "code",
   "execution_count": null,
   "metadata": {},
   "outputs": [],
   "source": [
    "print(\"Random Forest Mean Squared Error:\", mean_squared_error(y_test, y_pred_rf)) \n",
    "print(\"Random Forest R-squared Score:\", r2_score(y_test, y_pred_rf))"
   ]
  },
  {
   "cell_type": "markdown",
   "metadata": {},
   "source": [
    "**k-Nearest Neighbors (k-NN)**"
   ]
  },
  {
   "cell_type": "code",
   "execution_count": null,
   "metadata": {},
   "outputs": [],
   "source": [
    "\n",
    "knn = KNeighborsRegressor(n_neighbors=5) \n",
    "knn.fit(X_train, y_train)"
   ]
  },
  {
   "cell_type": "code",
   "execution_count": 261,
   "metadata": {},
   "outputs": [],
   "source": [
    "y_pred_knn = knn.predict(X_test)"
   ]
  },
  {
   "cell_type": "code",
   "execution_count": null,
   "metadata": {},
   "outputs": [],
   "source": [
    "mse_knn = mean_squared_error(y_test, y_pred)\n",
    "r2_knn = r2_score(y_test, y_pred)\n",
    "\n",
    "print(\"Mean Squared Error:\", mse_knn)\n",
    "print(\"R-squared Score:\", r2_knn)\n"
   ]
  },
  {
   "cell_type": "markdown",
   "metadata": {},
   "source": [
    "**Scatter plot Actual and Predicted Values**"
   ]
  },
  {
   "cell_type": "code",
   "execution_count": null,
   "metadata": {},
   "outputs": [],
   "source": [
    "# Plot actual vs. predicted values \n",
    "plt.figure(figsize=(10, 6)) \n",
    "sns.scatterplot(x=y_test, y=y_pred_rf, alpha=0.5) \n",
    "plt.plot([y_test.min(), y_test.max()], [y_test.min(), y_test.max()], 'r--', lw=2) \n",
    "plt.xlabel('Actual Values') \n",
    "plt.ylabel('Predicted Values') \n",
    "plt.title('Actual vs. Predicted Values') \n",
    "plt.show()"
   ]
  },
  {
   "cell_type": "code",
   "execution_count": null,
   "metadata": {},
   "outputs": [],
   "source": [
    "# Plot residuals \n",
    "residuals = y_test - y_pred_rf \n",
    "plt.figure(figsize=(10, 6)) \n",
    "sns.histplot(residuals, kde=True) \n",
    "plt.xlabel('Residuals') \n",
    "plt.title('Distribution of Residuals')\n",
    "plt.show()"
   ]
  },
  {
   "cell_type": "markdown",
   "metadata": {},
   "source": [
    "**The dataset is approximately normaly distributed** \n",
    "\n",
    "**The model fit the data well**"
   ]
  }
 ],
 "metadata": {
  "kernelspec": {
   "display_name": ".venv",
   "language": "python",
   "name": "python3"
  },
  "language_info": {
   "codemirror_mode": {
    "name": "ipython",
    "version": 3
   },
   "file_extension": ".py",
   "mimetype": "text/x-python",
   "name": "python",
   "nbconvert_exporter": "python",
   "pygments_lexer": "ipython3",
   "version": "3.9.6"
  }
 },
 "nbformat": 4,
 "nbformat_minor": 2
}
