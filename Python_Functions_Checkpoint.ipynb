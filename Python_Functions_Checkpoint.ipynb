{
  "nbformat": 4,
  "nbformat_minor": 0,
  "metadata": {
    "colab": {
      "provenance": [],
      "authorship_tag": "ABX9TyNKgDQFWZe3xdnQqTBe8KMn",
      "include_colab_link": true
    },
    "kernelspec": {
      "name": "python3",
      "display_name": "Python 3"
    },
    "language_info": {
      "name": "python"
    }
  },
  "cells": [
    {
      "cell_type": "markdown",
      "metadata": {
        "id": "view-in-github",
        "colab_type": "text"
      },
      "source": [
        "<a href=\"https://colab.research.google.com/github/ZZOHEIR/checkpoint_gomycode/blob/main/Python_Functions_Checkpoint.ipynb\" target=\"_parent\"><img src=\"https://colab.research.google.com/assets/colab-badge.svg\" alt=\"Open In Colab\"/></a>"
      ]
    },
    {
      "cell_type": "code",
      "execution_count": 37,
      "metadata": {
        "colab": {
          "base_uri": "https://localhost:8080/"
        },
        "id": "KEwlMkBlnJ39",
        "outputId": "2fa34f50-3009-469a-c13e-55a3492199d2"
      },
      "outputs": [
        {
          "name": "stdout",
          "output_type": "stream",
          "text": [
            "Debut du programme :\n",
            "Entrez le premier nombre : 777\n",
            "Quelle operation vous souhaitez effectuer '+'' '-' '/' '*'  ? -\n",
            "Donnez le second nombre : 22\n",
            "Calcule : 777.0 - 22.0 = 755.0 \n",
            "calculate again ? yes/no :   yes\n",
            "would like to continue using the result as the first number for further calculations ? :  yes/no  yes\n",
            "Quelle operation vous souhaitez effectuer '+'' '-' '/' '*'  ? +\n",
            "Donnez le second nombre : 111\n",
            "Calcule : 755.0 + 111.0 = 866.0 \n",
            "calculate again ? yes/no :   no\n"
          ]
        },
        {
          "output_type": "execute_result",
          "data": {
            "text/plain": [
              "False"
            ]
          },
          "metadata": {},
          "execution_count": 37
        }
      ],
      "source": [
        "from ast import Break\n",
        "from os import truncate\n",
        "import sys\n",
        "# Create a while loop that will continue to run until the user chooses to end the current calculation.\n",
        "def Add(a,b) :\n",
        " return a+b\n",
        "\n",
        "def Substract(a,b) :\n",
        " return a-b\n",
        "\n",
        "def Multiply(a,b) :\n",
        " return a*b\n",
        "\n",
        "def Divide(a,b) :\n",
        " if b !=0 :\n",
        "   return a/b\n",
        " else : print(\"cannot divide by 0\")\n",
        "\n",
        "operations = {'+': Add, '-': Substract, '*': Multiply, '/': Divide }\n",
        "\n",
        "print('Debut du programme :')\n",
        "\n",
        "def Calculator():\n",
        " should_continue = True\n",
        " num1 = float (input(\"Entrez le premier nombre : \"))\n",
        " while should_continue == True :\n",
        "  operation_symbol = input(\"Quelle operation vous souhaitez effectuer '+'' '-' '/' '*'  ? \")\n",
        "  calculation_function = operations[operation_symbol]\n",
        "  num2 = float(input ('Donnez le second nombre : '))\n",
        "  answer = float(calculation_function(num1, num2 ))\n",
        "  print(f'Calcule : {num1} {operation_symbol} {num2} = {answer} ')\n",
        "  calcul = input('calculate again ? yes/no :   ')\n",
        "  if calcul !='yes' :\n",
        "    return should_continue == False\n",
        "  else :\n",
        "   i = input('would like to continue using the result as the first number for further calculations ? :  yes/no  ')\n",
        "   if i == 'yes' :\n",
        "    num1 = answer\n",
        "   else :\n",
        "    Calculator()\n",
        "\n",
        "\n",
        " return\n",
        "\n",
        "\n",
        "\n",
        "\n",
        "\n",
        "Calculator()"
      ]
    }
  ]
}