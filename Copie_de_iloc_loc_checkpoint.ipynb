{
  "nbformat": 4,
  "nbformat_minor": 0,
  "metadata": {
    "colab": {
      "provenance": [],
      "authorship_tag": "ABX9TyPC0glZzeW6dhl9JcKr1nq8",
      "include_colab_link": true
    },
    "kernelspec": {
      "name": "python3",
      "display_name": "Python 3"
    },
    "language_info": {
      "name": "python"
    }
  },
  "cells": [
    {
      "cell_type": "markdown",
      "metadata": {
        "id": "view-in-github",
        "colab_type": "text"
      },
      "source": [
        "<a href=\"https://colab.research.google.com/github/ZZOHEIR/checkpoint_gomycode/blob/main/Copie_de_iloc_loc_checkpoint.ipynb\" target=\"_parent\"><img src=\"https://colab.research.google.com/assets/colab-badge.svg\" alt=\"Open In Colab\"/></a>"
      ]
    },
    {
      "cell_type": "markdown",
      "source": [
        "Votre Objectif\n",
        "\n",
        "In this exercise, you will work with a dataset called \"employee info\" that contains information about employees in a company. The dataset includes columns such as Name, Department, Age, Gender, Salary, and Experience.\n",
        "\n",
        "\n",
        "Instructions\n",
        "\n",
        "Create a dataframe called \"employee_df\" with the following data:\n",
        "\n",
        "import pandas as pd\n",
        "\n",
        "data = {'Name': ['John', 'Mary', 'Bob', 'Sarah', 'Tom', 'Lisa'], 'Department': ['IT', 'Marketing', 'Sales', 'IT', 'Finance', 'Marketing'], 'Age': [30, 40, 25, 35, 45, 28], 'Gender': ['Male', 'Female', 'Male', 'Female', 'Male', 'Female'], 'Salary': [50000, 60000, 45000, 55000, 70000, 55000], 'Experience': [3, 7, 2, 5, 10, 4]}\n",
        "\n",
        " employee_df = pd.DataFrame(data)\n",
        "\n",
        "\n",
        "\n",
        "Use the iloc method to select the first 3 rows of the dataframe.\n",
        "Use the loc method to select all rows where the Department is \"Marketing\".\n",
        "Use the iloc method to select the Age and Gender columns for the first 4 rows of the dataframe.\n",
        "Use the loc method to select the Salary and Experience columns for all rows where the Gender is \"Male\".\n",
        "Note:\n",
        "\n",
        "iloc is used for selection by index location\n",
        "loc is used for selection by label."
      ],
      "metadata": {
        "id": "P7PedpH1grIr"
      }
    },
    {
      "cell_type": "code",
      "source": [
        "import pandas as pd\n",
        "\n",
        "data = {'Name': ['John', 'Mary', 'Bob', 'Sarah', 'Tom', 'Lisa'], 'Department': ['IT', 'Marketing', 'Sales', 'IT', 'Finance', 'Marketing'], 'Age': [30, 40, 25, 35, 45, 28], 'Gender': ['Male', 'Female', 'Male', 'Female', 'Male', 'Female'], 'Salary': [50000, 60000, 45000, 55000, 70000, 55000], 'Experience': [3, 7, 2, 5, 10, 4]}\n",
        "\n",
        "employee_df = pd.DataFrame(data)\n",
        "print('PANDAS Dataframe :')\n",
        "print(employee_df)\n",
        "print('-'*60)\n",
        "emp_iloc = employee_df.iloc[0:3, :]\n",
        "print('Select the first 3 rows of the dataframe :')\n",
        "print(emp_iloc)\n",
        "print('-'*60)\n",
        "emp_loc = employee_df.loc[employee_df['Department'] == 'Marketing']\n",
        "print('Select all rows where the Department is \"Marketing\" :')\n",
        "print(emp_loc)\n",
        "print('-'*60)\n",
        "emp_iloc2 = employee_df.iloc[:4][['Age', 'Gender']]\n",
        "print('Select the Age and Gender columns for the first 4 rows of the dataframe :')\n",
        "print(emp_iloc2)\n",
        "print('-'*60)\n",
        "emp_loc2 = employee_df.loc[employee_df['Gender'] == 'Male', ['Salary', 'Experience', 'Gender']]\n",
        "print('Select the Salary and Experience columns for all rows where the Gender is \"Male\" :')\n",
        "print(emp_loc2)\n",
        "print('-'*60)\n",
        "\n"
      ],
      "metadata": {
        "colab": {
          "base_uri": "https://localhost:8080/"
        },
        "id": "lCzUhzGPgzmq",
        "outputId": "1e622ff4-df84-4a6a-cd68-d3d778767882"
      },
      "execution_count": null,
      "outputs": [
        {
          "output_type": "stream",
          "name": "stdout",
          "text": [
            "PANDAS Dataframe :\n",
            "    Name Department  Age  Gender  Salary  Experience\n",
            "0   John         IT   30    Male   50000           3\n",
            "1   Mary  Marketing   40  Female   60000           7\n",
            "2    Bob      Sales   25    Male   45000           2\n",
            "3  Sarah         IT   35  Female   55000           5\n",
            "4    Tom    Finance   45    Male   70000          10\n",
            "5   Lisa  Marketing   28  Female   55000           4\n",
            "------------------------------------------------------------\n",
            "Select the first 3 rows of the dataframe :\n",
            "   Name Department  Age  Gender  Salary  Experience\n",
            "0  John         IT   30    Male   50000           3\n",
            "1  Mary  Marketing   40  Female   60000           7\n",
            "2   Bob      Sales   25    Male   45000           2\n",
            "------------------------------------------------------------\n",
            "Select all rows where the Department is \"Marketing\" :\n",
            "   Name Department  Age  Gender  Salary  Experience\n",
            "1  Mary  Marketing   40  Female   60000           7\n",
            "5  Lisa  Marketing   28  Female   55000           4\n",
            "------------------------------------------------------------\n",
            "Select the Age and Gender columns for the first 4 rows of the dataframe :\n",
            "   Age  Gender\n",
            "0   30    Male\n",
            "1   40  Female\n",
            "2   25    Male\n",
            "3   35  Female\n",
            "------------------------------------------------------------\n",
            "Select the Salary and Experience columns for all rows where the Gender is \"Male\" :\n",
            "   Salary  Experience Gender\n",
            "0   50000           3   Male\n",
            "2   45000           2   Male\n",
            "4   70000          10   Male\n",
            "------------------------------------------------------------\n"
          ]
        }
      ]
    }
  ]
}