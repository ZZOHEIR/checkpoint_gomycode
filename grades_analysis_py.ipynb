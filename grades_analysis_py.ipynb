{
  "nbformat": 4,
  "nbformat_minor": 0,
  "metadata": {
    "colab": {
      "provenance": [],
      "authorship_tag": "ABX9TyNSk1hGmxdBA3GvY00czmYt",
      "include_colab_link": true
    },
    "kernelspec": {
      "name": "python3",
      "display_name": "Python 3"
    },
    "language_info": {
      "name": "python"
    }
  },
  "cells": [
    {
      "cell_type": "markdown",
      "metadata": {
        "id": "view-in-github",
        "colab_type": "text"
      },
      "source": [
        "<a href=\"https://colab.research.google.com/github/ZZOHEIR/checkpoint_gomycode/blob/main/grades_analysis_py.ipynb\" target=\"_parent\"><img src=\"https://colab.research.google.com/assets/colab-badge.svg\" alt=\"Open In Colab\"/></a>"
      ]
    },
    {
      "cell_type": "markdown",
      "source": [
        "Create a numpy array called \"grades\" that contains the following grades: [85, 90, 88, 92, 95, 80, 75, 98, 89, 83]\n",
        "\n",
        "\n",
        "Instructions\n",
        "\n",
        "Create a new file called \"grades_analysis.py\"\n",
        "Import the numpy library and create the \"grades\" array as specified above.\n",
        "Use numpy functions to calculate the mean, median, and standard deviation of the grades.\n",
        "Use numpy function to find the maximum and minimum of the grades.\n",
        "Use numpy function to sort the grades in ascending order.\n",
        "Use numpy function to find the index of the highest grade in the array.\n",
        "Use numpy function to count the number of students who scored above 90.\n",
        "Use numpy function to calculate the percentage of students who scored above 90.\n",
        "Use numpy function to calculate the percentage of students who scored below 75.\n",
        "Use numpy function to extract all the grades above 90 and put them in a new array called \"high_performers\".\n",
        "Create a new array called \"passing_grades\" that contains all the grades above 75.\n",
        "Print the result of all the above steps.\n",
        "Note:\n",
        "\n",
        "to calculate percentage use numpy.mean(grades > 90) * 100\n",
        "to extract the grades above 90 use grades[grades > 90]\n",
        "to extract the grades above 75 use grades[grades > 75]\n",
        "You can use other numpy functions as well to analyze the data as you want. The above steps are just examples of what can be done."
      ],
      "metadata": {
        "id": "i4S9qSiuJIQI"
      }
    },
    {
      "cell_type": "code",
      "execution_count": 33,
      "metadata": {
        "colab": {
          "base_uri": "https://localhost:8080/"
        },
        "id": "Zy9MeuQzI6ls",
        "outputId": "bbd22c9d-192d-474a-98d8-12e54c39d322"
      },
      "outputs": [
        {
          "output_type": "stream",
          "name": "stdout",
          "text": [
            "[85 90 88 92 95 80 75 98 89 83]\n",
            "Mean: 87.5\n",
            "Median: 88.5\n",
            "Standard Deviation: 6.591661399070799\n",
            "Max :  98\n",
            "Min :  75\n",
            "Ascendant :  [75 80 83 85 88 89 90 92 95 98]\n",
            "Descendant : [98 95 92 90 89 88 85 83 80 75]\n",
            "High Grade Index :  7\n",
            "Score Above 90 :  3\n",
            "10\n",
            "percent of students who scored above 90 : 30.0 %\n",
            "percent of students who scored below 75 : 0.0 %\n",
            "Grades above 90 : High performers :  [92 95 98]\n",
            "Grades above 75 : Passing grades :  []\n",
            "---------------------------------\n",
            "percent of students who scored above 90 : 30.0 %\n",
            "Score Above 90 :  [92 95 98]\n",
            "Score below 75 :  []\n"
          ]
        }
      ],
      "source": [
        "import numpy as np\n",
        "grades = np.array([85, 90, 88, 92, 95, 80, 75, 98, 89, 83])\n",
        "print(grades)\n",
        "# calculate the mean, median, and standard deviation of the grades\n",
        "mean = np.mean(grades)\n",
        "median = np.median(grades)\n",
        "std = np.std(grades)\n",
        "print(\"Mean:\", mean)\n",
        "print(\"Median:\", median)\n",
        "print(\"Standard Deviation:\", std)\n",
        "# maximum and minimum\n",
        "max = np.max(grades)\n",
        "min = np.min(grades)\n",
        "print(\"Max : \", max )\n",
        "print(\"Min : \", min )\n",
        "# Sort the grades in ascending order\n",
        "grades_asc = np.sort(grades)\n",
        "print(\"Ascendant : \", grades_asc)\n",
        "# desc\n",
        "grades_desc = np.sort(grades)[::-1]\n",
        "print(\"Descendant :\", grades_desc)\n",
        "# Index of the highest grade in the array.\n",
        "high_grades = np.argmax(grades)\n",
        "print('High Grade Index : ', high_grades)\n",
        "#Score above 90\n",
        "grades_above_90 = np.sum(grades > 90)\n",
        "print('Score Above 90 : ', grades_above_90)\n",
        "# % of students who scored above 90\n",
        "size = np.size(grades)\n",
        "print(size)\n",
        "Student_percent_90 = 100*(np.sum(grades > 90))/size\n",
        "print(f'percent of students who scored above 90 : {Student_percent_90} %')\n",
        "# calculate the percentage of students who scored below 75\n",
        "grades_below_75 = np.sum(grades < 75)\n",
        "Student_percent_75 = 100*(np.sum(grades < 75))/size\n",
        "print(f'percent of students who scored below 75 : {Student_percent_75 } %')\n",
        "# extract all the grades above 90 and put them in a new array called \"high_performers\"\n",
        "high_performers = np.extract(grades >90, grades)\n",
        "print(f'Grades above 90 : High performers :  {high_performers}')\n",
        "#  Passing_grades that contains all the grades above 75\n",
        "passing_grades = np.extract(grades < 75, grades)\n",
        "print(f'Grades above 75 : Passing grades :  {passing_grades}')\n",
        "\n",
        "print('---------------------------------')\n",
        "#to calculate percentage use numpy.mean(grades > 90) * 100 to extract the grades above 90 use grades[grades > 90]\n",
        "grades_up_90 = np.mean(grades > 90)*100\n",
        "print(f'percent of students who scored above 90 : {grades_up_90} %')\n",
        "above_90 = grades[grades > 90]\n",
        "print('Score Above 90 : ', above_90)\n",
        "# to extract the grades above 75 use grades[grades > 75]\n",
        "below_75 = grades[grades<75]\n",
        "print('Score below 75 : ', below_75)\n"
      ]
    }
  ]
}