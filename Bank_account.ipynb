{
  "nbformat": 4,
  "nbformat_minor": 0,
  "metadata": {
    "colab": {
      "provenance": [],
      "authorship_tag": "ABX9TyOLCffx4LXQFaEWS/ChKsL3",
      "include_colab_link": true
    },
    "kernelspec": {
      "name": "python3",
      "display_name": "Python 3"
    },
    "language_info": {
      "name": "python"
    }
  },
  "cells": [
    {
      "cell_type": "markdown",
      "metadata": {
        "id": "view-in-github",
        "colab_type": "text"
      },
      "source": [
        "<a href=\"https://colab.research.google.com/github/ZZOHEIR/checkpoint_gomycode/blob/main/Bank_account.ipynb\" target=\"_parent\"><img src=\"https://colab.research.google.com/assets/colab-badge.svg\" alt=\"Open In Colab\"/></a>"
      ]
    },
    {
      "cell_type": "code",
      "execution_count": 25,
      "metadata": {
        "colab": {
          "base_uri": "https://localhost:8080/"
        },
        "id": "aWU0FwmDAQdV",
        "outputId": "1dc8ca74-b0e9-4e62-89b8-3b5e4f36d870"
      },
      "outputs": [
        {
          "output_type": "stream",
          "name": "stdout",
          "text": [
            "The deposit for the account number 1 is 600.0\n",
            "The deposit for the account number 1 is 0.0\n",
            "The deposit for the account number 1 is 0.0\n"
          ]
        }
      ],
      "source": [
        "class Account :\n",
        "  def __init__(self, account_number, account_balance, account_holder):\n",
        "   self.account_number = account_number\n",
        "   self.account_balance = account_balance\n",
        "   self.account_holder = account_holder\n",
        "\n",
        "  def Deposit(self,argument) ->  float :\n",
        "# add the amount passed as an argument to the account balance.\n",
        "     self.account_balance += argument\n",
        "     return self.account_balance\n",
        "     print(f'Account Balance : {account_balance} ')\n",
        "\n",
        "  def Withdraw(self, amount) ->  float :\n",
        "# subtract the amount passed as an argument from the account balance,\n",
        "#but only if the account balance is greater than the amount being withdrawn.\n",
        "    self.amount = amount\n",
        "    if self.account_balance > amount :\n",
        "     self.account_balance -= amount\n",
        "     return self.account_balance\n",
        "     print(f'Account Balance : {account_balance} ')\n",
        "    else :\n",
        "      print('Insufficient balance')\n",
        "\n",
        "  def Check_balance(self, current_account_balance) :\n",
        "    self.current_account_balance = current_account_balance\n",
        "    current_account_balance == self.account_balance\n",
        "# return the current account balance.\n",
        "    return self.current_account_balance\n",
        "    print(f'Account Balance : {account_balance} ')\n",
        "\n",
        "\n",
        "\n",
        "\n",
        "\n",
        "a = Account(1,0.0,'A')\n",
        "b = Account(1, 0.0, 'B')\n",
        "c = Account(1, 0.0, 'C')\n",
        "a.Deposit(100)\n",
        "a.Deposit(200)\n",
        "a.Deposit(300)\n",
        "print(f'The deposit for the account number {a.account_number} is {a.account_balance}')\n",
        "print(f'The deposit for the account number {b.account_number} is {b.account_balance}')\n",
        "print(f'The deposit for the account number {c.account_number} is {c.account_balance}')\n"
      ]
    },
    {
      "cell_type": "code",
      "source": [
        "from os import access\n",
        "class Account :\n",
        "  def __init__(self, account_number, account_balance, account_holder):\n",
        "   self.account_number = account_number\n",
        "   self.account_balance = account_balance\n",
        "   self.account_holder = account_holder\n",
        "\n",
        "  def Deposit(self,argument) ->  float :\n",
        "# add the amount passed as an argument to the account balance.\n",
        "     self.account_balance += argument\n",
        "     return self.account_balance\n",
        "     print(f'Account Balance : {account_balance} ')\n",
        "\n",
        "  def Withdraw(self, amount) ->  float :\n",
        "# subtract the amount passed as an argument from the account balance,\n",
        "#but only if the account balance is greater than the amount being withdrawn.\n",
        "    self.amount = amount\n",
        "    if self.account_balance > amount :\n",
        "     self.account_balance -= amount\n",
        "     return self.account_balance\n",
        "     print(f'Account Balance : {account_balance} ')\n",
        "    else :\n",
        "      print('Insufficient balance')\n",
        "\n",
        "  def Check_balance(self) :\n",
        "    self.current_account_balance = self.account_balance\n",
        "    # return the current account balance.\n",
        "    return self.current_account_balance\n",
        "    print(f'Account Balance : {account_balance} ')\n",
        "\n",
        "\n",
        "\n",
        "my_account = Account(\"1\", 1000.0, \"Jhon\")\n",
        "my_account.Deposit(500.0)\n",
        "my_account.Withdraw(200.0)\n",
        "my_account.Withdraw(600.0)\n",
        "my_account.Withdraw(600.0)\n",
        "my_account.Withdraw(100.0)\n",
        "\n",
        "my_account2 = Account(\"2\", 5000.0, \"Smith\")\n",
        "my_account2.Deposit(5500.0)\n",
        "my_account2.Withdraw(2000.0)\n",
        "my_account2.Withdraw(6000.0)\n",
        "my_account2.Withdraw(100.0)\n",
        "my_account2.Withdraw(100.0)\n",
        "print(f'Account Customer 1 : {my_account.Check_balance()} dollars')\n",
        "print('--------------------------')\n",
        "print(f'Account Balance Customer 2: {my_account2.Check_balance()} dollars')\n",
        "\n"
      ],
      "metadata": {
        "colab": {
          "base_uri": "https://localhost:8080/"
        },
        "id": "oKVoueIEtDDy",
        "outputId": "ccb335ee-9fce-499f-b2c2-c9c90d530e87"
      },
      "execution_count": 16,
      "outputs": [
        {
          "output_type": "stream",
          "name": "stdout",
          "text": [
            "Insufficient balance\n",
            "Account Customer 1 : 100.0 dollars\n",
            "--------------------------\n",
            "Account Balance Customer 2: 2300.0 dollars\n"
          ]
        }
      ]
    }
  ]
}